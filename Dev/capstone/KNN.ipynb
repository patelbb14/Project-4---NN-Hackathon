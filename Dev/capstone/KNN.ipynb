{
 "cells": [
  {
   "cell_type": "code",
   "execution_count": 67,
   "id": "7de84654-f6d1-4183-b586-5c182e81db59",
   "metadata": {},
   "outputs": [],
   "source": [
    "import pandas as  pd\n",
    "import numpy as np\n",
    "import matplotlib.pyplot as plt\n",
    "import seaborn as sns\n",
    "\n",
    "from sklearn.neighbors import KNeighborsClassifier\n",
    "from sklearn.model_selection import train_test_split, cross_val_score\n",
    "from sklearn.preprocessing import StandardScaler\n",
    "\n",
    "from sklearn import metrics\n",
    "\n",
    "import math\n",
    "from rdkit.Chem import AllChem\n",
    "import rdkit\n",
    "Chem = rdkit.Chem\n",
    "from rdkit.Chem import GraphDescriptors\n",
    "from rdkit.Chem import MACCSkeys, rdFingerprintGenerator, Draw\n",
    "\n",
    "from sklearn.model_selection import train_test_split"
   ]
  },
  {
   "cell_type": "code",
   "execution_count": 4,
   "id": "d4cb3b3b-b701-4069-a528-2433f6abae05",
   "metadata": {},
   "outputs": [],
   "source": [
    "baseall = pd.read_csv('./data/base_all.tsv', sep = '\\t')"
   ]
  },
  {
   "cell_type": "code",
   "execution_count": 5,
   "id": "16aea419-0d1e-4f38-9bf8-c8317aeefd4b",
   "metadata": {},
   "outputs": [],
   "source": [
    "baseall = baseall.drop_duplicates(subset=['Molecule ChEMBL ID'])"
   ]
  },
  {
   "cell_type": "code",
   "execution_count": 6,
   "id": "8640403e-ef61-49a7-8d0a-af0fd8faed53",
   "metadata": {},
   "outputs": [],
   "source": [
    "baseall = baseall[['Molecule ChEMBL ID', 'Standard Value', 'Smiles']]"
   ]
  },
  {
   "cell_type": "code",
   "execution_count": 7,
   "id": "45de2140-e9dc-4f0d-9bb8-f3e0192f615c",
   "metadata": {},
   "outputs": [],
   "source": [
    "baseall = baseall.rename(columns={'Molecule ChEMBL ID': 'ChEMBL ID', 'Standard Value': 'IC50'})"
   ]
  },
  {
   "cell_type": "code",
   "execution_count": 8,
   "id": "151fd889-ea09-400c-80d8-c67735e365b9",
   "metadata": {},
   "outputs": [],
   "source": [
    "baseall['Unit'] = 'nM'"
   ]
  },
  {
   "cell_type": "code",
   "execution_count": 9,
   "id": "f2ffba96-fb69-41c3-b4bd-c090db194faf",
   "metadata": {},
   "outputs": [],
   "source": [
    "def convert_ic50_to_pic50(IC50_value):\n",
    "    pIC50_value = 9 - math.log10(IC50_value)\n",
    "    return pIC50_value"
   ]
  },
  {
   "cell_type": "code",
   "execution_count": 10,
   "id": "d248a32d-47fc-46aa-a177-88bfffe26472",
   "metadata": {},
   "outputs": [],
   "source": [
    "baseall[\"pIC50\"] = baseall.apply(lambda x: round(convert_ic50_to_pic50(x.IC50), 2), axis=1)"
   ]
  },
  {
   "cell_type": "code",
   "execution_count": 11,
   "id": "afc22eef-ac87-429d-9f8d-eefdc6c0fb58",
   "metadata": {},
   "outputs": [],
   "source": [
    "# add a column\n",
    "baseall['active'] = np.zeros(len(baseall))\n",
    "# label 1 for a molecule with pIC50 >= 6.5, 0 otherwise\n",
    "baseall.loc[baseall[baseall.pIC50 >= 6.5].index, \"active\"] = 1.0"
   ]
  },
  {
   "cell_type": "code",
   "execution_count": 12,
   "id": "8fed03fa-9b33-4cb4-bf43-8a8cfe2274b6",
   "metadata": {},
   "outputs": [],
   "source": [
    "def smiles_to_fp(smiles, method = 'maccs', n_bits = 2048):\n",
    "    mol = Chem.MolFromSmiles(smiles)\n",
    "\n",
    "    if method == 'maccs':\n",
    "        return np.array(MACCSkeys.GenMACCSKeys(mol))\n",
    "    \n",
    "    if method == 'morgan2':\n",
    "        fpg = rdFingerprintGenerator.GetMorganGenerator(radius = 2, fsize = n_bits)\n",
    "        return np.array(fpg.GetFingerprint(mol))\n",
    "\n",
    "    if method == 'morgan3':\n",
    "        fpg = rdFingerprintGenerator.GetMorganGenerator(radius = 3, fsize = n_bits)\n",
    "        return np.array(fpg.GetFingerPrint(mol))\n",
    "\n",
    "    else:\n",
    "        return np.array(MACCkeys.GenMACCSKeys(mol))"
   ]
  },
  {
   "cell_type": "code",
   "execution_count": null,
   "id": "73ec175c-d15a-4809-8255-535529b0bb8f",
   "metadata": {},
   "outputs": [],
   "source": []
  },
  {
   "cell_type": "code",
   "execution_count": 13,
   "id": "007651be-41b1-4137-b8f0-21da7a13bd5b",
   "metadata": {},
   "outputs": [
    {
     "data": {
      "text/html": [
       "<div>\n",
       "<style scoped>\n",
       "    .dataframe tbody tr th:only-of-type {\n",
       "        vertical-align: middle;\n",
       "    }\n",
       "\n",
       "    .dataframe tbody tr th {\n",
       "        vertical-align: top;\n",
       "    }\n",
       "\n",
       "    .dataframe thead th {\n",
       "        text-align: right;\n",
       "    }\n",
       "</style>\n",
       "<table border=\"1\" class=\"dataframe\">\n",
       "  <thead>\n",
       "    <tr style=\"text-align: right;\">\n",
       "      <th></th>\n",
       "      <th>ChEMBL ID</th>\n",
       "      <th>IC50</th>\n",
       "      <th>Smiles</th>\n",
       "      <th>Unit</th>\n",
       "      <th>pIC50</th>\n",
       "      <th>active</th>\n",
       "      <th>fp</th>\n",
       "    </tr>\n",
       "  </thead>\n",
       "  <tbody>\n",
       "    <tr>\n",
       "      <th>0</th>\n",
       "      <td>CHEMBL247416</td>\n",
       "      <td>2.0</td>\n",
       "      <td>CC1CC1CNc1cc(C(=O)N[C@@H](Cc2ccccc2)[C@@H](N)C...</td>\n",
       "      <td>nM</td>\n",
       "      <td>8.70</td>\n",
       "      <td>1.0</td>\n",
       "      <td>[0, 0, 0, 0, 0, 0, 0, 0, 0, 0, 0, 0, 0, 0, 0, ...</td>\n",
       "    </tr>\n",
       "    <tr>\n",
       "      <th>1</th>\n",
       "      <td>CHEMBL429477</td>\n",
       "      <td>66.0</td>\n",
       "      <td>COCCN(C[C@H]1C[C@@H]1C)c1cc(C(=O)N[C@@H](Cc2cc...</td>\n",
       "      <td>nM</td>\n",
       "      <td>7.18</td>\n",
       "      <td>1.0</td>\n",
       "      <td>[0, 0, 0, 0, 0, 0, 0, 0, 0, 0, 0, 0, 0, 0, 0, ...</td>\n",
       "    </tr>\n",
       "    <tr>\n",
       "      <th>2</th>\n",
       "      <td>CHEMBL393850</td>\n",
       "      <td>279.0</td>\n",
       "      <td>CC1CC1CNc1cc(C(=O)N[C@H](CN)Cc2ccccc2)cc(N(C)S...</td>\n",
       "      <td>nM</td>\n",
       "      <td>6.55</td>\n",
       "      <td>1.0</td>\n",
       "      <td>[0, 0, 0, 0, 0, 0, 0, 0, 0, 0, 0, 0, 0, 0, 0, ...</td>\n",
       "    </tr>\n",
       "    <tr>\n",
       "      <th>3</th>\n",
       "      <td>CHEMBL1546</td>\n",
       "      <td>100000.0</td>\n",
       "      <td>CC(N)Cc1ccc(O)cc1</td>\n",
       "      <td>nM</td>\n",
       "      <td>4.00</td>\n",
       "      <td>0.0</td>\n",
       "      <td>[0, 0, 0, 0, 0, 0, 0, 0, 0, 0, 0, 0, 0, 0, 0, ...</td>\n",
       "    </tr>\n",
       "    <tr>\n",
       "      <th>4</th>\n",
       "      <td>CHEMBL502753</td>\n",
       "      <td>1000.0</td>\n",
       "      <td>CC(C)C[C@H](NC(=O)c1cc(C(=O)N[C@H](C)c2ccc(F)c...</td>\n",
       "      <td>nM</td>\n",
       "      <td>6.00</td>\n",
       "      <td>0.0</td>\n",
       "      <td>[0, 0, 0, 0, 0, 0, 0, 0, 0, 0, 0, 0, 0, 0, 0, ...</td>\n",
       "    </tr>\n",
       "  </tbody>\n",
       "</table>\n",
       "</div>"
      ],
      "text/plain": [
       "      ChEMBL ID      IC50                                             Smiles  \\\n",
       "0  CHEMBL247416       2.0  CC1CC1CNc1cc(C(=O)N[C@@H](Cc2ccccc2)[C@@H](N)C...   \n",
       "1  CHEMBL429477      66.0  COCCN(C[C@H]1C[C@@H]1C)c1cc(C(=O)N[C@@H](Cc2cc...   \n",
       "2  CHEMBL393850     279.0  CC1CC1CNc1cc(C(=O)N[C@H](CN)Cc2ccccc2)cc(N(C)S...   \n",
       "3    CHEMBL1546  100000.0                                  CC(N)Cc1ccc(O)cc1   \n",
       "4  CHEMBL502753    1000.0  CC(C)C[C@H](NC(=O)c1cc(C(=O)N[C@H](C)c2ccc(F)c...   \n",
       "\n",
       "  Unit  pIC50  active                                                 fp  \n",
       "0   nM   8.70     1.0  [0, 0, 0, 0, 0, 0, 0, 0, 0, 0, 0, 0, 0, 0, 0, ...  \n",
       "1   nM   7.18     1.0  [0, 0, 0, 0, 0, 0, 0, 0, 0, 0, 0, 0, 0, 0, 0, ...  \n",
       "2   nM   6.55     1.0  [0, 0, 0, 0, 0, 0, 0, 0, 0, 0, 0, 0, 0, 0, 0, ...  \n",
       "3   nM   4.00     0.0  [0, 0, 0, 0, 0, 0, 0, 0, 0, 0, 0, 0, 0, 0, 0, ...  \n",
       "4   nM   6.00     0.0  [0, 0, 0, 0, 0, 0, 0, 0, 0, 0, 0, 0, 0, 0, 0, ...  "
      ]
     },
     "execution_count": 13,
     "metadata": {},
     "output_type": "execute_result"
    }
   ],
   "source": [
    "baseall['fp'] = baseall['Smiles'].apply(smiles_to_fp)\n",
    "baseall.head()"
   ]
  },
  {
   "cell_type": "code",
   "execution_count": 14,
   "id": "d3c53189-4ba6-4877-b2a5-a664b4bd962e",
   "metadata": {},
   "outputs": [],
   "source": [
    "X = baseall['fp']\n",
    "y = baseall['pIC50']"
   ]
  },
  {
   "cell_type": "code",
   "execution_count": 15,
   "id": "f5f46d7c-85bd-4dc7-83c2-72ef2c61f9cf",
   "metadata": {},
   "outputs": [
    {
     "data": {
      "text/plain": [
       "array([0, 0, 0, 0, 0, 0, 0, 0, 0, 0, 0, 0, 0, 0, 0, 0, 0, 0, 0, 0, 0, 0,\n",
       "       1, 0, 0, 0, 0, 0, 0, 0, 0, 0, 1, 1, 0, 0, 0, 0, 1, 0, 0, 0, 1, 0,\n",
       "       0, 0, 0, 0, 0, 0, 0, 1, 0, 0, 1, 1, 0, 0, 1, 0, 1, 1, 0, 0, 0, 1,\n",
       "       0, 1, 0, 0, 0, 0, 0, 1, 0, 0, 0, 1, 0, 1, 1, 1, 1, 0, 1, 0, 0, 0,\n",
       "       1, 0, 1, 1, 1, 1, 1, 0, 0, 1, 1, 0, 1, 0, 1, 0, 1, 0, 1, 1, 1, 0,\n",
       "       1, 1, 1, 0, 0, 1, 1, 1, 1, 0, 0, 1, 1, 0, 1, 1, 0, 0, 1, 1, 1, 1,\n",
       "       0, 1, 1, 1, 1, 1, 0, 0, 0, 1, 1, 0, 0, 1, 1, 1, 1, 1, 1, 1, 0, 1,\n",
       "       1, 1, 1, 0, 1, 1, 1, 1, 1, 1, 1, 1, 0])"
      ]
     },
     "execution_count": 15,
     "metadata": {},
     "output_type": "execute_result"
    }
   ],
   "source": [
    "X[0]"
   ]
  },
  {
   "cell_type": "code",
   "execution_count": 16,
   "id": "d0df74da-d79b-487e-aa49-2e4a7f292986",
   "metadata": {},
   "outputs": [],
   "source": [
    "X = baseall.fp.tolist()\n",
    "y = baseall.active.tolist()"
   ]
  },
  {
   "cell_type": "code",
   "execution_count": 17,
   "id": "8f8de5f6-4c35-4a11-af54-faf9aa358b87",
   "metadata": {},
   "outputs": [
    {
     "data": {
      "text/plain": [
       "array([0, 0, 0, 0, 0, 0, 0, 0, 0, 0, 0, 0, 0, 0, 0, 0, 0, 0, 0, 0, 0, 0,\n",
       "       1, 0, 0, 0, 0, 0, 0, 0, 0, 0, 1, 1, 0, 0, 0, 0, 1, 0, 0, 0, 1, 0,\n",
       "       0, 0, 0, 0, 0, 0, 0, 1, 0, 0, 1, 1, 0, 0, 1, 0, 1, 1, 0, 0, 0, 1,\n",
       "       0, 1, 0, 0, 0, 0, 0, 1, 0, 0, 0, 1, 0, 1, 1, 1, 1, 0, 1, 0, 0, 0,\n",
       "       1, 0, 1, 1, 1, 1, 1, 0, 0, 1, 1, 0, 1, 0, 1, 0, 1, 0, 1, 1, 1, 0,\n",
       "       1, 1, 1, 0, 0, 1, 1, 1, 1, 0, 0, 1, 1, 0, 1, 1, 0, 0, 1, 1, 1, 1,\n",
       "       0, 1, 1, 1, 1, 1, 0, 0, 0, 1, 1, 0, 0, 1, 1, 1, 1, 1, 1, 1, 0, 1,\n",
       "       1, 1, 1, 0, 1, 1, 1, 1, 1, 1, 1, 1, 0])"
      ]
     },
     "execution_count": 17,
     "metadata": {},
     "output_type": "execute_result"
    }
   ],
   "source": [
    "X[0]"
   ]
  },
  {
   "cell_type": "code",
   "execution_count": 18,
   "id": "63253dd4-3e06-413e-b9a4-b3187a2cc821",
   "metadata": {},
   "outputs": [],
   "source": [
    "X_train, X_test, y_train, y_test = train_test_split(X, y, test_size=0.2, random_state=42)"
   ]
  },
  {
   "cell_type": "code",
   "execution_count": 19,
   "id": "7084a89b-ee7e-4014-9b94-ed8b35ee1116",
   "metadata": {},
   "outputs": [],
   "source": [
    "sc = StandardScaler()\n",
    "X_train_sc = sc.fit_transform(X_train)\n",
    "X_test_sc = sc.transform(X_test)"
   ]
  },
  {
   "cell_type": "code",
   "execution_count": 20,
   "id": "c3a3a54e-f043-4c52-bcb5-8b1901d0a7b2",
   "metadata": {},
   "outputs": [],
   "source": [
    "knn = KNeighborsClassifier(n_neighbors=5)"
   ]
  },
  {
   "cell_type": "code",
   "execution_count": 21,
   "id": "973be8a6-62f8-4fb3-b3ab-91de449823a6",
   "metadata": {},
   "outputs": [
    {
     "data": {
      "text/plain": [
       "0.8591525707586669"
      ]
     },
     "execution_count": 21,
     "metadata": {},
     "output_type": "execute_result"
    }
   ],
   "source": [
    "knn.fit(X_train_sc, y_train)\n",
    "knn.score(X_train_sc, y_train)"
   ]
  },
  {
   "cell_type": "code",
   "execution_count": 22,
   "id": "e48fd816-faf9-4d3d-a827-e885fcf289b3",
   "metadata": {},
   "outputs": [
    {
     "data": {
      "text/plain": [
       "0.8057602143335566"
      ]
     },
     "execution_count": 22,
     "metadata": {},
     "output_type": "execute_result"
    }
   ],
   "source": [
    "knn.score(X_test_sc, y_test)"
   ]
  },
  {
   "cell_type": "code",
   "execution_count": 23,
   "id": "990e2ae3-1319-45e7-b1e0-0c5bd4e5b20b",
   "metadata": {},
   "outputs": [
    {
     "data": {
      "text/plain": [
       "0.8030500887940258"
      ]
     },
     "execution_count": 23,
     "metadata": {},
     "output_type": "execute_result"
    }
   ],
   "source": [
    "cross_val_score(knn, X_train_sc, y_train, cv=10).mean()"
   ]
  },
  {
   "cell_type": "code",
   "execution_count": 24,
   "id": "8d959951-5a89-49d5-8d03-5397fae36b53",
   "metadata": {},
   "outputs": [],
   "source": [
    "pred = knn.predict(X_test_sc)"
   ]
  },
  {
   "cell_type": "code",
   "execution_count": 25,
   "id": "bdefd873-092f-42a4-9d8e-ae02d135a9e3",
   "metadata": {},
   "outputs": [
    {
     "data": {
      "text/plain": [
       "0.7685851318944844"
      ]
     },
     "execution_count": 25,
     "metadata": {},
     "output_type": "execute_result"
    }
   ],
   "source": [
    "metrics.precision_score(y_test, pred)"
   ]
  },
  {
   "cell_type": "code",
   "execution_count": 26,
   "id": "fc31d157-2cf7-4e40-919a-ec9e53dcc2cc",
   "metadata": {},
   "outputs": [
    {
     "data": {
      "text/plain": [
       "0.8685636856368564"
      ]
     },
     "execution_count": 26,
     "metadata": {},
     "output_type": "execute_result"
    }
   ],
   "source": [
    "metrics.recall_score(y_test, pred)"
   ]
  },
  {
   "cell_type": "code",
   "execution_count": 27,
   "id": "dd9de890-ecd1-4c13-acfa-7b8f5fdb47b2",
   "metadata": {},
   "outputs": [
    {
     "name": "stdout",
     "output_type": "stream",
     "text": [
      "              precision    recall  f1-score   support\n",
      "\n",
      "         0.0       0.85      0.74      0.79       755\n",
      "         1.0       0.77      0.87      0.82       738\n",
      "\n",
      "    accuracy                           0.81      1493\n",
      "   macro avg       0.81      0.81      0.81      1493\n",
      "weighted avg       0.81      0.81      0.81      1493\n",
      "\n"
     ]
    }
   ],
   "source": [
    "print(metrics.classification_report(y_test, pred))"
   ]
  },
  {
   "cell_type": "markdown",
   "id": "a974ac43-13a5-48c4-a9c2-66d9abd7987f",
   "metadata": {},
   "source": [
    "#### Predict pIC50 values for BACE1 target from list of approved drugs"
   ]
  },
  {
   "cell_type": "code",
   "execution_count": 28,
   "id": "5b6c6a93-8c7e-48c7-a22e-946ba075968a",
   "metadata": {},
   "outputs": [],
   "source": [
    "approved = pd.read_csv('./data/approved.csv')"
   ]
  },
  {
   "cell_type": "code",
   "execution_count": 29,
   "id": "aae2eaf6-d50a-4dfd-9197-c85475bc1469",
   "metadata": {},
   "outputs": [
    {
     "data": {
      "text/html": [
       "<div>\n",
       "<style scoped>\n",
       "    .dataframe tbody tr th:only-of-type {\n",
       "        vertical-align: middle;\n",
       "    }\n",
       "\n",
       "    .dataframe tbody tr th {\n",
       "        vertical-align: top;\n",
       "    }\n",
       "\n",
       "    .dataframe thead th {\n",
       "        text-align: right;\n",
       "    }\n",
       "</style>\n",
       "<table border=\"1\" class=\"dataframe\">\n",
       "  <thead>\n",
       "    <tr style=\"text-align: right;\">\n",
       "      <th></th>\n",
       "      <th>ChEMBL ID</th>\n",
       "      <th>IC50</th>\n",
       "      <th>Unit</th>\n",
       "      <th>Smiles</th>\n",
       "      <th>pIC50</th>\n",
       "    </tr>\n",
       "  </thead>\n",
       "  <tbody>\n",
       "    <tr>\n",
       "      <th>0</th>\n",
       "      <td>CHEMBL1640</td>\n",
       "      <td>13.0</td>\n",
       "      <td>nM</td>\n",
       "      <td>Cc1cc(-c2ccc(/N=N/c3c(S(=O)(=O)[O-])cc4cc(S(=O...</td>\n",
       "      <td>7.89</td>\n",
       "    </tr>\n",
       "    <tr>\n",
       "      <th>1</th>\n",
       "      <td>CHEMBL1201033</td>\n",
       "      <td>4.0</td>\n",
       "      <td>nM</td>\n",
       "      <td>CN(C)/C=N/c1c(I)cc(I)c(CCC(=O)[O-])c1I.[Na+]</td>\n",
       "      <td>8.40</td>\n",
       "    </tr>\n",
       "  </tbody>\n",
       "</table>\n",
       "</div>"
      ],
      "text/plain": [
       "       ChEMBL ID  IC50 Unit  \\\n",
       "0     CHEMBL1640  13.0   nM   \n",
       "1  CHEMBL1201033   4.0   nM   \n",
       "\n",
       "                                              Smiles  pIC50  \n",
       "0  Cc1cc(-c2ccc(/N=N/c3c(S(=O)(=O)[O-])cc4cc(S(=O...   7.89  \n",
       "1       CN(C)/C=N/c1c(I)cc(I)c(CCC(=O)[O-])c1I.[Na+]   8.40  "
      ]
     },
     "execution_count": 29,
     "metadata": {},
     "output_type": "execute_result"
    }
   ],
   "source": [
    "approved.head(2)"
   ]
  },
  {
   "cell_type": "code",
   "execution_count": 30,
   "id": "203a4818-3281-4d03-abf8-2dc4d3a83288",
   "metadata": {},
   "outputs": [],
   "source": [
    "approved['fp'] = approved['Smiles'].apply(smiles_to_fp)"
   ]
  },
  {
   "cell_type": "code",
   "execution_count": 31,
   "id": "6f66d0c6-0ac5-4d34-94fe-a7d061026404",
   "metadata": {},
   "outputs": [],
   "source": [
    "X_app = baseall['fp']\n",
    "y_app = baseall['pIC50']"
   ]
  },
  {
   "cell_type": "code",
   "execution_count": 34,
   "id": "2a93bb2b-6d54-4df9-9232-135246756bcc",
   "metadata": {},
   "outputs": [],
   "source": [
    "X_app = baseall.fp.tolist()\n",
    "y_app = baseall.active.tolist()"
   ]
  },
  {
   "cell_type": "code",
   "execution_count": 35,
   "id": "d7bcfce0-e3a4-4f1a-822e-84f13e21af1b",
   "metadata": {},
   "outputs": [],
   "source": [
    "X_app_sc = sc.transform(X_test)"
   ]
  },
  {
   "cell_type": "code",
   "execution_count": 40,
   "id": "697978d4-0d79-4466-b671-77f0e5d2ba9f",
   "metadata": {},
   "outputs": [],
   "source": [
    "approved_predictions = knn.predict(X_app_sc)"
   ]
  },
  {
   "cell_type": "code",
   "execution_count": 50,
   "id": "2328d77a-00cc-457d-9160-91e285c82285",
   "metadata": {},
   "outputs": [],
   "source": [
    "approved_prediction_pIC50 = pd.DataFrame(approved_predictions, columns = ['BACE1_pIC50'])\n",
    "approved_prediction_pIC50_df = approved.join(approved_prediction_pIC50)"
   ]
  },
  {
   "cell_type": "code",
   "execution_count": 57,
   "id": "0d3ff3a4-515a-4c35-840f-ffaa322ea35e",
   "metadata": {},
   "outputs": [
    {
     "data": {
      "text/html": [
       "<div>\n",
       "<style scoped>\n",
       "    .dataframe tbody tr th:only-of-type {\n",
       "        vertical-align: middle;\n",
       "    }\n",
       "\n",
       "    .dataframe tbody tr th {\n",
       "        vertical-align: top;\n",
       "    }\n",
       "\n",
       "    .dataframe thead th {\n",
       "        text-align: right;\n",
       "    }\n",
       "</style>\n",
       "<table border=\"1\" class=\"dataframe\">\n",
       "  <thead>\n",
       "    <tr style=\"text-align: right;\">\n",
       "      <th></th>\n",
       "      <th>ChEMBL ID</th>\n",
       "      <th>IC50</th>\n",
       "      <th>Unit</th>\n",
       "      <th>Smiles</th>\n",
       "      <th>pIC50</th>\n",
       "      <th>fp</th>\n",
       "      <th>BACE1_pIC50</th>\n",
       "    </tr>\n",
       "  </thead>\n",
       "  <tbody>\n",
       "    <tr>\n",
       "      <th>1542</th>\n",
       "      <td>CHEMBL547</td>\n",
       "      <td>937.0</td>\n",
       "      <td>nM</td>\n",
       "      <td>CC1=C(/C=C/C(C)=C/C=C/C(C)=C\\C(=O)O)C(C)(C)CCC1</td>\n",
       "      <td>6.03</td>\n",
       "      <td>[0, 0, 0, 0, 0, 0, 0, 0, 0, 0, 0, 0, 0, 0, 0, ...</td>\n",
       "      <td>NaN</td>\n",
       "    </tr>\n",
       "    <tr>\n",
       "      <th>1163</th>\n",
       "      <td>CHEMBL1657</td>\n",
       "      <td>113.0</td>\n",
       "      <td>nM</td>\n",
       "      <td>CCOC(=O)c1ccc(C#Cc2ccc3c(c2)C(C)(C)CCS3)nc1</td>\n",
       "      <td>6.95</td>\n",
       "      <td>[0, 0, 0, 0, 0, 0, 0, 0, 0, 0, 0, 0, 0, 0, 0, ...</td>\n",
       "      <td>1.0</td>\n",
       "    </tr>\n",
       "    <tr>\n",
       "      <th>117</th>\n",
       "      <td>CHEMBL14376</td>\n",
       "      <td>57.0</td>\n",
       "      <td>nM</td>\n",
       "      <td>COc1cc(C(C)=O)ccc1OCCCN1CCC(c2noc3cc(F)ccc23)CC1</td>\n",
       "      <td>7.24</td>\n",
       "      <td>[0, 0, 0, 0, 0, 0, 0, 0, 0, 0, 0, 0, 0, 0, 0, ...</td>\n",
       "      <td>0.0</td>\n",
       "    </tr>\n",
       "  </tbody>\n",
       "</table>\n",
       "</div>"
      ],
      "text/plain": [
       "        ChEMBL ID   IC50 Unit  \\\n",
       "1542    CHEMBL547  937.0   nM   \n",
       "1163   CHEMBL1657  113.0   nM   \n",
       "117   CHEMBL14376   57.0   nM   \n",
       "\n",
       "                                                Smiles  pIC50  \\\n",
       "1542   CC1=C(/C=C/C(C)=C/C=C/C(C)=C\\C(=O)O)C(C)(C)CCC1   6.03   \n",
       "1163       CCOC(=O)c1ccc(C#Cc2ccc3c(c2)C(C)(C)CCS3)nc1   6.95   \n",
       "117   COc1cc(C(C)=O)ccc1OCCCN1CCC(c2noc3cc(F)ccc23)CC1   7.24   \n",
       "\n",
       "                                                     fp  BACE1_pIC50  \n",
       "1542  [0, 0, 0, 0, 0, 0, 0, 0, 0, 0, 0, 0, 0, 0, 0, ...          NaN  \n",
       "1163  [0, 0, 0, 0, 0, 0, 0, 0, 0, 0, 0, 0, 0, 0, 0, ...          1.0  \n",
       "117   [0, 0, 0, 0, 0, 0, 0, 0, 0, 0, 0, 0, 0, 0, 0, ...          0.0  "
      ]
     },
     "execution_count": 57,
     "metadata": {},
     "output_type": "execute_result"
    }
   ],
   "source": [
    "approved_prediction_pIC50_df.sample(3)"
   ]
  },
  {
   "cell_type": "code",
   "execution_count": 54,
   "id": "b17b8ec7-6648-4af8-8c88-5c152ced1caf",
   "metadata": {},
   "outputs": [
    {
     "data": {
      "text/html": [
       "<div>\n",
       "<style scoped>\n",
       "    .dataframe tbody tr th:only-of-type {\n",
       "        vertical-align: middle;\n",
       "    }\n",
       "\n",
       "    .dataframe tbody tr th {\n",
       "        vertical-align: top;\n",
       "    }\n",
       "\n",
       "    .dataframe thead th {\n",
       "        text-align: right;\n",
       "    }\n",
       "</style>\n",
       "<table border=\"1\" class=\"dataframe\">\n",
       "  <thead>\n",
       "    <tr style=\"text-align: right;\">\n",
       "      <th></th>\n",
       "      <th>ChEMBL ID</th>\n",
       "      <th>IC50</th>\n",
       "      <th>Unit</th>\n",
       "      <th>Smiles</th>\n",
       "      <th>pIC50</th>\n",
       "      <th>fp</th>\n",
       "      <th>BACE1_pIC50</th>\n",
       "    </tr>\n",
       "  </thead>\n",
       "  <tbody>\n",
       "    <tr>\n",
       "      <th>844</th>\n",
       "      <td>CHEMBL4297528</td>\n",
       "      <td>59.0</td>\n",
       "      <td>nM</td>\n",
       "      <td>Cc1cn2nc(-c3cc(=O)n4cc(N5CCNC6(CC6)C5)ccc4n3)c...</td>\n",
       "      <td>7.23</td>\n",
       "      <td>[0, 0, 0, 0, 0, 0, 0, 0, 0, 0, 0, 0, 0, 0, 0, ...</td>\n",
       "      <td>0.0</td>\n",
       "    </tr>\n",
       "    <tr>\n",
       "      <th>73</th>\n",
       "      <td>CHEMBL1201202</td>\n",
       "      <td>1.0</td>\n",
       "      <td>nM</td>\n",
       "      <td>CO[C@H]1O[C@H](COS(=O)(=O)O)[C@@H](O[C@@H]2O[C...</td>\n",
       "      <td>9.00</td>\n",
       "      <td>[0, 0, 0, 0, 0, 0, 0, 0, 0, 0, 0, 0, 0, 0, 0, ...</td>\n",
       "      <td>0.0</td>\n",
       "    </tr>\n",
       "    <tr>\n",
       "      <th>1461</th>\n",
       "      <td>CHEMBL688</td>\n",
       "      <td>34.0</td>\n",
       "      <td>nM</td>\n",
       "      <td>CCC(=O)N(c1ccccc1)C1CCN(CCc2ccccc2)CC1.O=C(O)C...</td>\n",
       "      <td>7.47</td>\n",
       "      <td>[0, 0, 0, 0, 0, 0, 0, 0, 0, 0, 0, 0, 0, 0, 0, ...</td>\n",
       "      <td>0.0</td>\n",
       "    </tr>\n",
       "    <tr>\n",
       "      <th>82</th>\n",
       "      <td>CHEMBL3301622</td>\n",
       "      <td>350.0</td>\n",
       "      <td>nM</td>\n",
       "      <td>CCc1nc(C(N)=O)c(Nc2ccc(N3CCC(N4CCN(C)CC4)CC3)c...</td>\n",
       "      <td>6.46</td>\n",
       "      <td>[0, 0, 0, 0, 0, 0, 0, 0, 0, 0, 0, 0, 0, 0, 0, ...</td>\n",
       "      <td>0.0</td>\n",
       "    </tr>\n",
       "    <tr>\n",
       "      <th>83</th>\n",
       "      <td>CHEMBL657</td>\n",
       "      <td>976.0</td>\n",
       "      <td>nM</td>\n",
       "      <td>CN(C)CCOC(c1ccccc1)c1ccccc1</td>\n",
       "      <td>6.01</td>\n",
       "      <td>[0, 0, 0, 0, 0, 0, 0, 0, 0, 0, 0, 0, 0, 0, 0, ...</td>\n",
       "      <td>0.0</td>\n",
       "    </tr>\n",
       "    <tr>\n",
       "      <th>...</th>\n",
       "      <td>...</td>\n",
       "      <td>...</td>\n",
       "      <td>...</td>\n",
       "      <td>...</td>\n",
       "      <td>...</td>\n",
       "      <td>...</td>\n",
       "      <td>...</td>\n",
       "    </tr>\n",
       "    <tr>\n",
       "      <th>2047</th>\n",
       "      <td>CHEMBL1692</td>\n",
       "      <td>206.0</td>\n",
       "      <td>nM</td>\n",
       "      <td>CN(C)CCCN1c2ccccc2CCc2ccccc21.Cl</td>\n",
       "      <td>6.69</td>\n",
       "      <td>[0, 0, 0, 0, 0, 0, 0, 0, 0, 0, 0, 0, 0, 0, 0, ...</td>\n",
       "      <td>NaN</td>\n",
       "    </tr>\n",
       "    <tr>\n",
       "      <th>2048</th>\n",
       "      <td>CHEMBL563</td>\n",
       "      <td>966.0</td>\n",
       "      <td>nM</td>\n",
       "      <td>CC(C(=O)O)c1ccc(-c2ccccc2)c(F)c1</td>\n",
       "      <td>6.02</td>\n",
       "      <td>[0, 0, 0, 0, 0, 0, 0, 0, 0, 0, 0, 0, 0, 0, 0, ...</td>\n",
       "      <td>NaN</td>\n",
       "    </tr>\n",
       "    <tr>\n",
       "      <th>2049</th>\n",
       "      <td>CHEMBL812</td>\n",
       "      <td>103.0</td>\n",
       "      <td>nM</td>\n",
       "      <td>CN(C)C(=O)Oc1ccc[n+](C)c1.[Br-]</td>\n",
       "      <td>6.99</td>\n",
       "      <td>[0, 0, 0, 0, 0, 0, 0, 0, 0, 0, 0, 0, 0, 0, 0, ...</td>\n",
       "      <td>NaN</td>\n",
       "    </tr>\n",
       "    <tr>\n",
       "      <th>2050</th>\n",
       "      <td>CHEMBL1115</td>\n",
       "      <td>86.0</td>\n",
       "      <td>nM</td>\n",
       "      <td>CN(C)C(=O)Oc1ccc[n+](C)c1</td>\n",
       "      <td>7.07</td>\n",
       "      <td>[0, 0, 0, 0, 0, 0, 0, 0, 0, 0, 0, 0, 0, 0, 0, ...</td>\n",
       "      <td>NaN</td>\n",
       "    </tr>\n",
       "    <tr>\n",
       "      <th>2051</th>\n",
       "      <td>CHEMBL1457</td>\n",
       "      <td>40.0</td>\n",
       "      <td>nM</td>\n",
       "      <td>COc1ccc2c3c1O[C@H]1C(=O)CC[C@H]4[C@@H](C2)N(C)...</td>\n",
       "      <td>7.40</td>\n",
       "      <td>[0, 0, 0, 0, 0, 0, 0, 0, 0, 0, 0, 0, 0, 0, 0, ...</td>\n",
       "      <td>NaN</td>\n",
       "    </tr>\n",
       "  </tbody>\n",
       "</table>\n",
       "<p>2052 rows × 7 columns</p>\n",
       "</div>"
      ],
      "text/plain": [
       "          ChEMBL ID   IC50 Unit  \\\n",
       "844   CHEMBL4297528   59.0   nM   \n",
       "73    CHEMBL1201202    1.0   nM   \n",
       "1461      CHEMBL688   34.0   nM   \n",
       "82    CHEMBL3301622  350.0   nM   \n",
       "83        CHEMBL657  976.0   nM   \n",
       "...             ...    ...  ...   \n",
       "2047     CHEMBL1692  206.0   nM   \n",
       "2048      CHEMBL563  966.0   nM   \n",
       "2049      CHEMBL812  103.0   nM   \n",
       "2050     CHEMBL1115   86.0   nM   \n",
       "2051     CHEMBL1457   40.0   nM   \n",
       "\n",
       "                                                 Smiles  pIC50  \\\n",
       "844   Cc1cn2nc(-c3cc(=O)n4cc(N5CCNC6(CC6)C5)ccc4n3)c...   7.23   \n",
       "73    CO[C@H]1O[C@H](COS(=O)(=O)O)[C@@H](O[C@@H]2O[C...   9.00   \n",
       "1461  CCC(=O)N(c1ccccc1)C1CCN(CCc2ccccc2)CC1.O=C(O)C...   7.47   \n",
       "82    CCc1nc(C(N)=O)c(Nc2ccc(N3CCC(N4CCN(C)CC4)CC3)c...   6.46   \n",
       "83                          CN(C)CCOC(c1ccccc1)c1ccccc1   6.01   \n",
       "...                                                 ...    ...   \n",
       "2047                   CN(C)CCCN1c2ccccc2CCc2ccccc21.Cl   6.69   \n",
       "2048                   CC(C(=O)O)c1ccc(-c2ccccc2)c(F)c1   6.02   \n",
       "2049                    CN(C)C(=O)Oc1ccc[n+](C)c1.[Br-]   6.99   \n",
       "2050                          CN(C)C(=O)Oc1ccc[n+](C)c1   7.07   \n",
       "2051  COc1ccc2c3c1O[C@H]1C(=O)CC[C@H]4[C@@H](C2)N(C)...   7.40   \n",
       "\n",
       "                                                     fp  BACE1_pIC50  \n",
       "844   [0, 0, 0, 0, 0, 0, 0, 0, 0, 0, 0, 0, 0, 0, 0, ...          0.0  \n",
       "73    [0, 0, 0, 0, 0, 0, 0, 0, 0, 0, 0, 0, 0, 0, 0, ...          0.0  \n",
       "1461  [0, 0, 0, 0, 0, 0, 0, 0, 0, 0, 0, 0, 0, 0, 0, ...          0.0  \n",
       "82    [0, 0, 0, 0, 0, 0, 0, 0, 0, 0, 0, 0, 0, 0, 0, ...          0.0  \n",
       "83    [0, 0, 0, 0, 0, 0, 0, 0, 0, 0, 0, 0, 0, 0, 0, ...          0.0  \n",
       "...                                                 ...          ...  \n",
       "2047  [0, 0, 0, 0, 0, 0, 0, 0, 0, 0, 0, 0, 0, 0, 0, ...          NaN  \n",
       "2048  [0, 0, 0, 0, 0, 0, 0, 0, 0, 0, 0, 0, 0, 0, 0, ...          NaN  \n",
       "2049  [0, 0, 0, 0, 0, 0, 0, 0, 0, 0, 0, 0, 0, 0, 0, ...          NaN  \n",
       "2050  [0, 0, 0, 0, 0, 0, 0, 0, 0, 0, 0, 0, 0, 0, 0, ...          NaN  \n",
       "2051  [0, 0, 0, 0, 0, 0, 0, 0, 0, 0, 0, 0, 0, 0, 0, ...          NaN  \n",
       "\n",
       "[2052 rows x 7 columns]"
      ]
     },
     "execution_count": 54,
     "metadata": {},
     "output_type": "execute_result"
    }
   ],
   "source": [
    "approved_prediction_pIC50_df = approved_prediction_pIC50_df.sort_values(by='BACE1_pIC50', ascending = True)\n",
    "approved_prediction_pIC50_df"
   ]
  },
  {
   "cell_type": "code",
   "execution_count": 58,
   "id": "37d44576-62a4-48fe-875a-8fca1347a931",
   "metadata": {},
   "outputs": [
    {
     "data": {
      "text/html": [
       "<div>\n",
       "<style scoped>\n",
       "    .dataframe tbody tr th:only-of-type {\n",
       "        vertical-align: middle;\n",
       "    }\n",
       "\n",
       "    .dataframe tbody tr th {\n",
       "        vertical-align: top;\n",
       "    }\n",
       "\n",
       "    .dataframe thead th {\n",
       "        text-align: right;\n",
       "    }\n",
       "</style>\n",
       "<table border=\"1\" class=\"dataframe\">\n",
       "  <thead>\n",
       "    <tr style=\"text-align: right;\">\n",
       "      <th></th>\n",
       "      <th>ChEMBL ID</th>\n",
       "      <th>IC50</th>\n",
       "      <th>Unit</th>\n",
       "      <th>Smiles</th>\n",
       "      <th>pIC50</th>\n",
       "      <th>fp</th>\n",
       "      <th>BACE1_pIC50</th>\n",
       "    </tr>\n",
       "  </thead>\n",
       "  <tbody>\n",
       "    <tr>\n",
       "      <th>582</th>\n",
       "      <td>CHEMBL21731</td>\n",
       "      <td>741.0</td>\n",
       "      <td>nM</td>\n",
       "      <td>CNCCCC12CCC(c3ccccc31)c1ccccc12</td>\n",
       "      <td>6.13</td>\n",
       "      <td>[0, 0, 0, 0, 0, 0, 0, 0, 0, 0, 0, 0, 0, 0, 0, ...</td>\n",
       "      <td>0.0</td>\n",
       "    </tr>\n",
       "    <tr>\n",
       "      <th>775</th>\n",
       "      <td>CHEMBL1201020</td>\n",
       "      <td>32.0</td>\n",
       "      <td>nM</td>\n",
       "      <td>CC(C)N(CCC(C(N)=O)(c1ccccc1)c1ccccn1)C(C)C.O=P...</td>\n",
       "      <td>7.49</td>\n",
       "      <td>[0, 0, 0, 0, 0, 0, 0, 0, 0, 0, 0, 0, 0, 0, 0, ...</td>\n",
       "      <td>0.0</td>\n",
       "    </tr>\n",
       "    <tr>\n",
       "      <th>1162</th>\n",
       "      <td>CHEMBL1200636</td>\n",
       "      <td>132.0</td>\n",
       "      <td>nM</td>\n",
       "      <td>CN(C)CCC=C1c2ccccc2C=Cc2ccccc21.Cl</td>\n",
       "      <td>6.88</td>\n",
       "      <td>[0, 0, 0, 0, 0, 0, 0, 0, 0, 0, 0, 0, 0, 0, 0, ...</td>\n",
       "      <td>0.0</td>\n",
       "    </tr>\n",
       "    <tr>\n",
       "      <th>1167</th>\n",
       "      <td>CHEMBL2360079</td>\n",
       "      <td>9.0</td>\n",
       "      <td>nM</td>\n",
       "      <td>CC(=O)c1ccc2c(c1)N(CCCN1CCN(CCO)CC1)c1ccccc1S2...</td>\n",
       "      <td>8.05</td>\n",
       "      <td>[0, 0, 0, 0, 0, 0, 0, 0, 0, 0, 0, 0, 0, 0, 0, ...</td>\n",
       "      <td>0.0</td>\n",
       "    </tr>\n",
       "    <tr>\n",
       "      <th>774</th>\n",
       "      <td>CHEMBL1200464</td>\n",
       "      <td>26.0</td>\n",
       "      <td>nM</td>\n",
       "      <td>CCCOc1ccc(C(=O)OCCN(CC)CC)cc1N.Cl</td>\n",
       "      <td>7.59</td>\n",
       "      <td>[0, 0, 0, 0, 0, 0, 0, 0, 0, 0, 0, 0, 0, 0, 0, ...</td>\n",
       "      <td>0.0</td>\n",
       "    </tr>\n",
       "  </tbody>\n",
       "</table>\n",
       "</div>"
      ],
      "text/plain": [
       "          ChEMBL ID   IC50 Unit  \\\n",
       "582     CHEMBL21731  741.0   nM   \n",
       "775   CHEMBL1201020   32.0   nM   \n",
       "1162  CHEMBL1200636  132.0   nM   \n",
       "1167  CHEMBL2360079    9.0   nM   \n",
       "774   CHEMBL1200464   26.0   nM   \n",
       "\n",
       "                                                 Smiles  pIC50  \\\n",
       "582                     CNCCCC12CCC(c3ccccc31)c1ccccc12   6.13   \n",
       "775   CC(C)N(CCC(C(N)=O)(c1ccccc1)c1ccccn1)C(C)C.O=P...   7.49   \n",
       "1162                 CN(C)CCC=C1c2ccccc2C=Cc2ccccc21.Cl   6.88   \n",
       "1167  CC(=O)c1ccc2c(c1)N(CCCN1CCN(CCO)CC1)c1ccccc1S2...   8.05   \n",
       "774                   CCCOc1ccc(C(=O)OCCN(CC)CC)cc1N.Cl   7.59   \n",
       "\n",
       "                                                     fp  BACE1_pIC50  \n",
       "582   [0, 0, 0, 0, 0, 0, 0, 0, 0, 0, 0, 0, 0, 0, 0, ...          0.0  \n",
       "775   [0, 0, 0, 0, 0, 0, 0, 0, 0, 0, 0, 0, 0, 0, 0, ...          0.0  \n",
       "1162  [0, 0, 0, 0, 0, 0, 0, 0, 0, 0, 0, 0, 0, 0, 0, ...          0.0  \n",
       "1167  [0, 0, 0, 0, 0, 0, 0, 0, 0, 0, 0, 0, 0, 0, 0, ...          0.0  \n",
       "774   [0, 0, 0, 0, 0, 0, 0, 0, 0, 0, 0, 0, 0, 0, 0, ...          0.0  "
      ]
     },
     "execution_count": 58,
     "metadata": {},
     "output_type": "execute_result"
    }
   ],
   "source": [
    "# bottom 5 molecules\n",
    "bottom5_drugs = approved_prediction_pIC50_df[500:505]\n",
    "bottom5_drugs"
   ]
  },
  {
   "cell_type": "code",
   "execution_count": 59,
   "id": "4cf5d068-b9b4-4aed-a171-b7c917d019b6",
   "metadata": {},
   "outputs": [
    {
     "data": {
      "text/plain": [
       "count    1493.000000\n",
       "mean        0.558607\n",
       "std         0.496720\n",
       "min         0.000000\n",
       "25%         0.000000\n",
       "50%         1.000000\n",
       "75%         1.000000\n",
       "max         1.000000\n",
       "Name: BACE1_pIC50, dtype: float64"
      ]
     },
     "execution_count": 59,
     "metadata": {},
     "output_type": "execute_result"
    }
   ],
   "source": [
    "approved_prediction_pIC50_df['BACE1_pIC50'].describe()"
   ]
  },
  {
   "cell_type": "code",
   "execution_count": 62,
   "id": "b4181d07-c8e6-4673-aec5-99aa978cf381",
   "metadata": {},
   "outputs": [],
   "source": [
    "approved_prediction_pIC50_df = approved_prediction_pIC50_df.loc[approved_prediction_pIC50_df['BACE1_pIC50'] >= 1]"
   ]
  },
  {
   "cell_type": "code",
   "execution_count": 63,
   "id": "801d8053-0522-468d-89a0-2ac75874fc92",
   "metadata": {},
   "outputs": [
    {
     "data": {
      "text/plain": [
       "(834, 7)"
      ]
     },
     "execution_count": 63,
     "metadata": {},
     "output_type": "execute_result"
    }
   ],
   "source": [
    "approved_prediction_pIC50_df.shape"
   ]
  },
  {
   "cell_type": "code",
   "execution_count": 65,
   "id": "bd8705f2-e5ac-4c81-8a35-79496d929c60",
   "metadata": {},
   "outputs": [
    {
     "data": {
      "text/html": [
       "<div>\n",
       "<style scoped>\n",
       "    .dataframe tbody tr th:only-of-type {\n",
       "        vertical-align: middle;\n",
       "    }\n",
       "\n",
       "    .dataframe tbody tr th {\n",
       "        vertical-align: top;\n",
       "    }\n",
       "\n",
       "    .dataframe thead th {\n",
       "        text-align: right;\n",
       "    }\n",
       "</style>\n",
       "<table border=\"1\" class=\"dataframe\">\n",
       "  <thead>\n",
       "    <tr style=\"text-align: right;\">\n",
       "      <th></th>\n",
       "      <th>ChEMBL ID</th>\n",
       "      <th>IC50</th>\n",
       "      <th>Unit</th>\n",
       "      <th>Smiles</th>\n",
       "      <th>pIC50</th>\n",
       "      <th>fp</th>\n",
       "      <th>BACE1_pIC50</th>\n",
       "    </tr>\n",
       "  </thead>\n",
       "  <tbody>\n",
       "    <tr>\n",
       "      <th>150</th>\n",
       "      <td>CHEMBL1200991</td>\n",
       "      <td>14.0</td>\n",
       "      <td>nM</td>\n",
       "      <td>CC1(C)S[C@@H]2[C@H](NC(=O)C(C(=O)Oc3ccc4c(c3)C...</td>\n",
       "      <td>7.85</td>\n",
       "      <td>[0, 0, 0, 0, 0, 0, 0, 0, 1, 0, 0, 1, 0, 0, 0, ...</td>\n",
       "      <td>1.0</td>\n",
       "    </tr>\n",
       "    <tr>\n",
       "      <th>148</th>\n",
       "      <td>CHEMBL1138</td>\n",
       "      <td>272.0</td>\n",
       "      <td>nM</td>\n",
       "      <td>O=C1[C@H](CC[C@H](O)c2ccc(F)cc2)[C@@H](c2ccc(O...</td>\n",
       "      <td>6.57</td>\n",
       "      <td>[0, 0, 0, 0, 0, 0, 0, 0, 1, 0, 0, 1, 0, 0, 0, ...</td>\n",
       "      <td>1.0</td>\n",
       "    </tr>\n",
       "    <tr>\n",
       "      <th>139</th>\n",
       "      <td>CHEMBL3989559</td>\n",
       "      <td>2.0</td>\n",
       "      <td>nM</td>\n",
       "      <td>COc1ccnc(C[S+]([O-])c2nc3cc(OC(F)F)ccc3[n-]2)c...</td>\n",
       "      <td>8.70</td>\n",
       "      <td>[0, 0, 0, 0, 0, 0, 0, 0, 0, 0, 0, 0, 0, 0, 0, ...</td>\n",
       "      <td>1.0</td>\n",
       "    </tr>\n",
       "    <tr>\n",
       "      <th>143</th>\n",
       "      <td>CHEMBL1774461</td>\n",
       "      <td>50.0</td>\n",
       "      <td>nM</td>\n",
       "      <td>CNc1ccc(/C=C/c2ccc(OCCOCCOCC[18F])nc2)cc1</td>\n",
       "      <td>7.30</td>\n",
       "      <td>[0, 0, 0, 0, 0, 0, 0, 0, 0, 0, 0, 0, 0, 0, 0, ...</td>\n",
       "      <td>1.0</td>\n",
       "    </tr>\n",
       "  </tbody>\n",
       "</table>\n",
       "</div>"
      ],
      "text/plain": [
       "         ChEMBL ID   IC50 Unit  \\\n",
       "150  CHEMBL1200991   14.0   nM   \n",
       "148     CHEMBL1138  272.0   nM   \n",
       "139  CHEMBL3989559    2.0   nM   \n",
       "143  CHEMBL1774461   50.0   nM   \n",
       "\n",
       "                                                Smiles  pIC50  \\\n",
       "150  CC1(C)S[C@@H]2[C@H](NC(=O)C(C(=O)Oc3ccc4c(c3)C...   7.85   \n",
       "148  O=C1[C@H](CC[C@H](O)c2ccc(F)cc2)[C@@H](c2ccc(O...   6.57   \n",
       "139  COc1ccnc(C[S+]([O-])c2nc3cc(OC(F)F)ccc3[n-]2)c...   8.70   \n",
       "143          CNc1ccc(/C=C/c2ccc(OCCOCCOCC[18F])nc2)cc1   7.30   \n",
       "\n",
       "                                                    fp  BACE1_pIC50  \n",
       "150  [0, 0, 0, 0, 0, 0, 0, 0, 1, 0, 0, 1, 0, 0, 0, ...          1.0  \n",
       "148  [0, 0, 0, 0, 0, 0, 0, 0, 1, 0, 0, 1, 0, 0, 0, ...          1.0  \n",
       "139  [0, 0, 0, 0, 0, 0, 0, 0, 0, 0, 0, 0, 0, 0, 0, ...          1.0  \n",
       "143  [0, 0, 0, 0, 0, 0, 0, 0, 0, 0, 0, 0, 0, 0, 0, ...          1.0  "
      ]
     },
     "execution_count": 65,
     "metadata": {},
     "output_type": "execute_result"
    }
   ],
   "source": [
    "top5_drugs = approved_prediction_pIC50_df[1:5]\n",
    "top5_drugs"
   ]
  },
  {
   "cell_type": "code",
   "execution_count": 68,
   "id": "a94cc483-582d-4877-974e-b5533d98ab29",
   "metadata": {},
   "outputs": [
    {
     "data": {
      "image/png": "[encoded data removed]",
      "text/plain": [
       "<IPython.core.display.Image object>"
      ]
     },
     "execution_count": 68,
     "metadata": {},
     "output_type": "execute_result"
    }
   ],
   "source": [
    "top5_pIC50 = approved_prediction_pIC50_df['Smiles'][top5_drugs.index]\n",
    "mols_base = [Chem.MolFromSmiles(smile) for smile in top5_pIC50]\n",
    "pIC50_base = top5_drugs[\"BACE1_pIC50\"].tolist()\n",
    "pIC50_values = [(f\"pIC50 value: {value:.2f}\") for value in pIC50_base]\n",
    "Draw.MolsToGridImage(mols_base, molsPerRow = 3, subImgSize=(450, 300), legends=pIC50_values)"
   ]
  },
  {
   "cell_type": "code",
   "execution_count": null,
   "id": "93501b1d-c070-4d53-96bf-55771445700d",
   "metadata": {},
   "outputs": [],
   "source": []
  }
 ],
 "metadata": {
  "kernelspec": {
   "display_name": "Python 3 (ipykernel)",
   "language": "python",
   "name": "python3"
  },
  "language_info": {
   "codemirror_mode": {
    "name": "ipython",
    "version": 3
   },
   "file_extension": ".py",
   "mimetype": "text/x-python",
   "name": "python",
   "nbconvert_exporter": "python",
   "pygments_lexer": "ipython3",
   "version": "3.8.19"
  }
 },
 "nbformat": 4,
 "nbformat_minor": 5
}
