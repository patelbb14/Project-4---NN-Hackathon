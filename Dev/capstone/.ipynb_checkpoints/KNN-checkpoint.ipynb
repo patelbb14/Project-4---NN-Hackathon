{
 "cells": [
  {
   "cell_type": "code",
   "execution_count": 1,
   "id": "7de84654-f6d1-4183-b586-5c182e81db59",
   "metadata": {},
   "outputs": [],
   "source": [
    "import pandas as  pd\n",
    "import numpy as np\n",
    "import matplotlib.pyplot as plt\n",
    "import seaborn as sns\n",
    "\n",
    "from sklearn.neighbors import KNeighborsClassifier\n",
    "from sklearn.model_selection import train_test_split, cross_val_score\n",
    "from sklearn.preprocessing import StandardScaler\n",
    "from sklearn.metrics import confusion_matrix\n",
    "from sklearn import metrics\n",
    "\n",
    "import math\n",
    "from rdkit.Chem import AllChem\n",
    "import rdkit\n",
    "Chem = rdkit.Chem\n",
    "from rdkit.Chem import GraphDescriptors\n",
    "from rdkit.Chem import MACCSkeys, rdFingerprintGenerator\n",
    "\n",
    "from sklearn.model_selection import train_test_split\n",
    "\n",
    "from tensorflow.keras.models import Sequential\n",
    "from tensorflow.keras.layers import Dense, Dropout, Flatten, Conv2D, Conv1D, MaxPooling1D\n",
    "from tensorflow.keras.optimizers import Adam"
   ]
  },
  {
   "cell_type": "code",
   "execution_count": 2,
   "id": "d4cb3b3b-b701-4069-a528-2433f6abae05",
   "metadata": {},
   "outputs": [],
   "source": [
    "baseall = pd.read_csv('./data/base_all.tsv', sep = '\\t')"
   ]
  },
  {
   "cell_type": "code",
   "execution_count": 3,
   "id": "16aea419-0d1e-4f38-9bf8-c8317aeefd4b",
   "metadata": {},
   "outputs": [],
   "source": [
    "baseall = baseall.drop_duplicates(subset=['Molecule ChEMBL ID'])"
   ]
  },
  {
   "cell_type": "code",
   "execution_count": 4,
   "id": "8640403e-ef61-49a7-8d0a-af0fd8faed53",
   "metadata": {},
   "outputs": [],
   "source": [
    "baseall = baseall[['Molecule ChEMBL ID', 'Standard Value', 'Smiles']]"
   ]
  },
  {
   "cell_type": "code",
   "execution_count": 6,
   "id": "45de2140-e9dc-4f0d-9bb8-f3e0192f615c",
   "metadata": {},
   "outputs": [],
   "source": [
    "baseall = baseall.rename(columns={'Molecule ChEMBL ID': 'ChEMBL ID', 'Standard Value': 'IC50'})"
   ]
  },
  {
   "cell_type": "code",
   "execution_count": 7,
   "id": "151fd889-ea09-400c-80d8-c67735e365b9",
   "metadata": {},
   "outputs": [],
   "source": [
    "baseall['Unit'] = 'nM'"
   ]
  },
  {
   "cell_type": "code",
   "execution_count": 8,
   "id": "f2ffba96-fb69-41c3-b4bd-c090db194faf",
   "metadata": {},
   "outputs": [],
   "source": [
    "def convert_ic50_to_pic50(IC50_value):\n",
    "    pIC50_value = 9 - math.log10(IC50_value)\n",
    "    return pIC50_value"
   ]
  },
  {
   "cell_type": "code",
   "execution_count": 9,
   "id": "d248a32d-47fc-46aa-a177-88bfffe26472",
   "metadata": {},
   "outputs": [],
   "source": [
    "baseall[\"pIC50\"] = baseall.apply(lambda x: round(convert_ic50_to_pic50(x.IC50), 2), axis=1)"
   ]
  },
  {
   "cell_type": "code",
   "execution_count": 10,
   "id": "afc22eef-ac87-429d-9f8d-eefdc6c0fb58",
   "metadata": {},
   "outputs": [],
   "source": [
    "# add a column\n",
    "baseall['active'] = np.zeros(len(baseall))\n",
    "# label 1 for a molecule with pIC50 >= 6.5, 0 otherwise\n",
    "baseall.loc[baseall[baseall.pIC50 >= 6.5].index, \"active\"] = 1.0"
   ]
  },
  {
   "cell_type": "code",
   "execution_count": 11,
   "id": "8fed03fa-9b33-4cb4-bf43-8a8cfe2274b6",
   "metadata": {},
   "outputs": [],
   "source": [
    "def smiles_to_fp(smiles, method = 'maccs', n_bits = 2048):\n",
    "    mol = Chem.MolFromSmiles(smiles)\n",
    "\n",
    "    if method == 'maccs':\n",
    "        return np.array(MACCSkeys.GenMACCSKeys(mol))\n",
    "    \n",
    "    if method == 'morgan2':\n",
    "        fpg = rdFingerprintGenerator.GetMorganGenerator(radius = 2, fsize = n_bits)\n",
    "        return np.array(fpg.GetFingerprint(mol))\n",
    "\n",
    "    if method == 'morgan3':\n",
    "        fpg = rdFingerprintGenerator.GetMorganGenerator(radius = 3, fsize = n_bits)\n",
    "        return np.array(fpg.GetFingerPrint(mol))\n",
    "\n",
    "    else:\n",
    "        return np.array(MACCkeys.GenMACCSKeys(mol))"
   ]
  },
  {
   "cell_type": "code",
   "execution_count": null,
   "id": "73ec175c-d15a-4809-8255-535529b0bb8f",
   "metadata": {},
   "outputs": [],
   "source": []
  },
  {
   "cell_type": "code",
   "execution_count": 12,
   "id": "007651be-41b1-4137-b8f0-21da7a13bd5b",
   "metadata": {},
   "outputs": [
    {
     "data": {
      "text/html": [
       "<div>\n",
       "<style scoped>\n",
       "    .dataframe tbody tr th:only-of-type {\n",
       "        vertical-align: middle;\n",
       "    }\n",
       "\n",
       "    .dataframe tbody tr th {\n",
       "        vertical-align: top;\n",
       "    }\n",
       "\n",
       "    .dataframe thead th {\n",
       "        text-align: right;\n",
       "    }\n",
       "</style>\n",
       "<table border=\"1\" class=\"dataframe\">\n",
       "  <thead>\n",
       "    <tr style=\"text-align: right;\">\n",
       "      <th></th>\n",
       "      <th>ChEMBL ID</th>\n",
       "      <th>IC50</th>\n",
       "      <th>Smiles</th>\n",
       "      <th>Unit</th>\n",
       "      <th>pIC50</th>\n",
       "      <th>active</th>\n",
       "      <th>fp</th>\n",
       "    </tr>\n",
       "  </thead>\n",
       "  <tbody>\n",
       "    <tr>\n",
       "      <th>0</th>\n",
       "      <td>CHEMBL247416</td>\n",
       "      <td>2.0</td>\n",
       "      <td>CC1CC1CNc1cc(C(=O)N[C@@H](Cc2ccccc2)[C@@H](N)C...</td>\n",
       "      <td>nM</td>\n",
       "      <td>8.70</td>\n",
       "      <td>1.0</td>\n",
       "      <td>[0, 0, 0, 0, 0, 0, 0, 0, 0, 0, 0, 0, 0, 0, 0, ...</td>\n",
       "    </tr>\n",
       "    <tr>\n",
       "      <th>1</th>\n",
       "      <td>CHEMBL429477</td>\n",
       "      <td>66.0</td>\n",
       "      <td>COCCN(C[C@H]1C[C@@H]1C)c1cc(C(=O)N[C@@H](Cc2cc...</td>\n",
       "      <td>nM</td>\n",
       "      <td>7.18</td>\n",
       "      <td>1.0</td>\n",
       "      <td>[0, 0, 0, 0, 0, 0, 0, 0, 0, 0, 0, 0, 0, 0, 0, ...</td>\n",
       "    </tr>\n",
       "    <tr>\n",
       "      <th>2</th>\n",
       "      <td>CHEMBL393850</td>\n",
       "      <td>279.0</td>\n",
       "      <td>CC1CC1CNc1cc(C(=O)N[C@H](CN)Cc2ccccc2)cc(N(C)S...</td>\n",
       "      <td>nM</td>\n",
       "      <td>6.55</td>\n",
       "      <td>1.0</td>\n",
       "      <td>[0, 0, 0, 0, 0, 0, 0, 0, 0, 0, 0, 0, 0, 0, 0, ...</td>\n",
       "    </tr>\n",
       "    <tr>\n",
       "      <th>3</th>\n",
       "      <td>CHEMBL1546</td>\n",
       "      <td>100000.0</td>\n",
       "      <td>CC(N)Cc1ccc(O)cc1</td>\n",
       "      <td>nM</td>\n",
       "      <td>4.00</td>\n",
       "      <td>0.0</td>\n",
       "      <td>[0, 0, 0, 0, 0, 0, 0, 0, 0, 0, 0, 0, 0, 0, 0, ...</td>\n",
       "    </tr>\n",
       "    <tr>\n",
       "      <th>4</th>\n",
       "      <td>CHEMBL502753</td>\n",
       "      <td>1000.0</td>\n",
       "      <td>CC(C)C[C@H](NC(=O)c1cc(C(=O)N[C@H](C)c2ccc(F)c...</td>\n",
       "      <td>nM</td>\n",
       "      <td>6.00</td>\n",
       "      <td>0.0</td>\n",
       "      <td>[0, 0, 0, 0, 0, 0, 0, 0, 0, 0, 0, 0, 0, 0, 0, ...</td>\n",
       "    </tr>\n",
       "  </tbody>\n",
       "</table>\n",
       "</div>"
      ],
      "text/plain": [
       "      ChEMBL ID      IC50                                             Smiles  \\\n",
       "0  CHEMBL247416       2.0  CC1CC1CNc1cc(C(=O)N[C@@H](Cc2ccccc2)[C@@H](N)C...   \n",
       "1  CHEMBL429477      66.0  COCCN(C[C@H]1C[C@@H]1C)c1cc(C(=O)N[C@@H](Cc2cc...   \n",
       "2  CHEMBL393850     279.0  CC1CC1CNc1cc(C(=O)N[C@H](CN)Cc2ccccc2)cc(N(C)S...   \n",
       "3    CHEMBL1546  100000.0                                  CC(N)Cc1ccc(O)cc1   \n",
       "4  CHEMBL502753    1000.0  CC(C)C[C@H](NC(=O)c1cc(C(=O)N[C@H](C)c2ccc(F)c...   \n",
       "\n",
       "  Unit  pIC50  active                                                 fp  \n",
       "0   nM   8.70     1.0  [0, 0, 0, 0, 0, 0, 0, 0, 0, 0, 0, 0, 0, 0, 0, ...  \n",
       "1   nM   7.18     1.0  [0, 0, 0, 0, 0, 0, 0, 0, 0, 0, 0, 0, 0, 0, 0, ...  \n",
       "2   nM   6.55     1.0  [0, 0, 0, 0, 0, 0, 0, 0, 0, 0, 0, 0, 0, 0, 0, ...  \n",
       "3   nM   4.00     0.0  [0, 0, 0, 0, 0, 0, 0, 0, 0, 0, 0, 0, 0, 0, 0, ...  \n",
       "4   nM   6.00     0.0  [0, 0, 0, 0, 0, 0, 0, 0, 0, 0, 0, 0, 0, 0, 0, ...  "
      ]
     },
     "execution_count": 12,
     "metadata": {},
     "output_type": "execute_result"
    }
   ],
   "source": [
    "baseall['fp'] = baseall['Smiles'].apply(smiles_to_fp)\n",
    "baseall.head()"
   ]
  },
  {
   "cell_type": "code",
   "execution_count": 22,
   "id": "d3c53189-4ba6-4877-b2a5-a664b4bd962e",
   "metadata": {},
   "outputs": [],
   "source": [
    "X = baseall['fp']\n",
    "y = baseall['pIC50']"
   ]
  },
  {
   "cell_type": "code",
   "execution_count": 23,
   "id": "d0df74da-d79b-487e-aa49-2e4a7f292986",
   "metadata": {},
   "outputs": [],
   "source": [
    "X = baseall.fp.tolist()\n",
    "y = baseall.active.tolist()"
   ]
  },
  {
   "cell_type": "code",
   "execution_count": 27,
   "id": "63253dd4-3e06-413e-b9a4-b3187a2cc821",
   "metadata": {},
   "outputs": [],
   "source": [
    "X_train, X_test, y_train, y_test = train_test_split(X, y, test_size=0.2, random_state=42)"
   ]
  },
  {
   "cell_type": "code",
   "execution_count": 28,
   "id": "7084a89b-ee7e-4014-9b94-ed8b35ee1116",
   "metadata": {},
   "outputs": [],
   "source": [
    "sc = StandardScaler()\n",
    "X_train_sc = sc.fit_transform(X_train)\n",
    "X_test_sc = sc.transform(X_test)"
   ]
  },
  {
   "cell_type": "code",
   "execution_count": 36,
   "id": "c3a3a54e-f043-4c52-bcb5-8b1901d0a7b2",
   "metadata": {},
   "outputs": [],
   "source": [
    "knn = KNeighborsClassifier(n_neighbors=5)"
   ]
  },
  {
   "cell_type": "code",
   "execution_count": 37,
   "id": "973be8a6-62f8-4fb3-b3ab-91de449823a6",
   "metadata": {},
   "outputs": [
    {
     "data": {
      "text/plain": [
       "0.8591525707586669"
      ]
     },
     "execution_count": 37,
     "metadata": {},
     "output_type": "execute_result"
    }
   ],
   "source": [
    "knn.fit(X_train_sc, y_train)\n",
    "knn.score(X_train_sc, y_train)"
   ]
  },
  {
   "cell_type": "code",
   "execution_count": 38,
   "id": "e48fd816-faf9-4d3d-a827-e885fcf289b3",
   "metadata": {},
   "outputs": [
    {
     "data": {
      "text/plain": [
       "0.8057602143335566"
      ]
     },
     "execution_count": 38,
     "metadata": {},
     "output_type": "execute_result"
    }
   ],
   "source": [
    "knn.score(X_test_sc, y_test)"
   ]
  },
  {
   "cell_type": "code",
   "execution_count": 39,
   "id": "990e2ae3-1319-45e7-b1e0-0c5bd4e5b20b",
   "metadata": {},
   "outputs": [
    {
     "data": {
      "text/plain": [
       "0.8030500887940258"
      ]
     },
     "execution_count": 39,
     "metadata": {},
     "output_type": "execute_result"
    }
   ],
   "source": [
    "cross_val_score(knn, X_train_sc, y_train, cv=10).mean()"
   ]
  },
  {
   "cell_type": "code",
   "execution_count": 45,
   "id": "8d959951-5a89-49d5-8d03-5397fae36b53",
   "metadata": {},
   "outputs": [],
   "source": [
    "pred = knn.predict(X_test_sc)"
   ]
  },
  {
   "cell_type": "code",
   "execution_count": 50,
   "id": "bdefd873-092f-42a4-9d8e-ae02d135a9e3",
   "metadata": {},
   "outputs": [
    {
     "data": {
      "text/plain": [
       "0.7685851318944844"
      ]
     },
     "execution_count": 50,
     "metadata": {},
     "output_type": "execute_result"
    }
   ],
   "source": [
    "metrics.precision_score(y_test, pred)"
   ]
  },
  {
   "cell_type": "code",
   "execution_count": 51,
   "id": "fc31d157-2cf7-4e40-919a-ec9e53dcc2cc",
   "metadata": {},
   "outputs": [
    {
     "data": {
      "text/plain": [
       "0.8685636856368564"
      ]
     },
     "execution_count": 51,
     "metadata": {},
     "output_type": "execute_result"
    }
   ],
   "source": [
    "metrics.recall_score(y_test, pred)"
   ]
  },
  {
   "cell_type": "code",
   "execution_count": 52,
   "id": "dd9de890-ecd1-4c13-acfa-7b8f5fdb47b2",
   "metadata": {},
   "outputs": [
    {
     "name": "stdout",
     "output_type": "stream",
     "text": [
      "              precision    recall  f1-score   support\n",
      "\n",
      "         0.0       0.85      0.74      0.79       755\n",
      "         1.0       0.77      0.87      0.82       738\n",
      "\n",
      "    accuracy                           0.81      1493\n",
      "   macro avg       0.81      0.81      0.81      1493\n",
      "weighted avg       0.81      0.81      0.81      1493\n",
      "\n"
     ]
    }
   ],
   "source": [
    "print(metrics.classification_report(y_test, pred))"
   ]
  },
  {
   "cell_type": "code",
   "execution_count": null,
   "id": "1a952993-82ef-46aa-a904-93888110163c",
   "metadata": {},
   "outputs": [],
   "source": []
  },
  {
   "cell_type": "code",
   "execution_count": null,
   "id": "5b6c6a93-8c7e-48c7-a22e-946ba075968a",
   "metadata": {},
   "outputs": [],
   "source": []
  }
 ],
 "metadata": {
  "kernelspec": {
   "display_name": "Python 3 (ipykernel)",
   "language": "python",
   "name": "python3"
  },
  "language_info": {
   "codemirror_mode": {
    "name": "ipython",
    "version": 3
   },
   "file_extension": ".py",
   "mimetype": "text/x-python",
   "name": "python",
   "nbconvert_exporter": "python",
   "pygments_lexer": "ipython3",
   "version": "3.12.2"
  }
 },
 "nbformat": 4,
 "nbformat_minor": 5
}
